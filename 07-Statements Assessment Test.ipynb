{
 "cells": [
  {
   "cell_type": "markdown",
   "metadata": {
    "collapsed": true
   },
   "source": [
    "# Statements Assessment Test\n",
    "Let's test your knowledge!"
   ]
  },
  {
   "cell_type": "markdown",
   "metadata": {},
   "source": [
    "_____\n",
    "**Use <code>for</code>, .split(), and <code>if</code> to create a Statement that will print out words that start with 's':**"
   ]
  },
  {
   "cell_type": "code",
   "execution_count": 21,
   "metadata": {},
   "outputs": [],
   "source": [
    "st = 'Print only the words that start with s in this sentence'"
   ]
  },
  {
   "cell_type": "code",
   "execution_count": 22,
   "metadata": {},
   "outputs": [
    {
     "name": "stdout",
     "output_type": "stream",
     "text": [
      "['start', 's', 'sentence']\n"
     ]
    }
   ],
   "source": [
    "my_list = [x for x in st.split(\" \") if x[0] == 's']\n",
    "print(my_list)"
   ]
  },
  {
   "cell_type": "markdown",
   "metadata": {},
   "source": [
    "______\n",
    "**Use range() to print all the even numbers from 0 to 10.**"
   ]
  },
  {
   "cell_type": "code",
   "execution_count": 23,
   "metadata": {},
   "outputs": [
    {
     "name": "stdout",
     "output_type": "stream",
     "text": [
      "[0, 2, 4, 6, 8, 10]\n"
     ]
    }
   ],
   "source": [
    "print(list(range(0,11,2)))"
   ]
  },
  {
   "cell_type": "markdown",
   "metadata": {},
   "source": [
    "___\n",
    "**Use a List Comprehension to create a list of all numbers between 1 and 50 that are divisible by 3.**"
   ]
  },
  {
   "cell_type": "code",
   "execution_count": 24,
   "metadata": {},
   "outputs": [
    {
     "name": "stdout",
     "output_type": "stream",
     "text": [
      "[0, 3, 6, 9, 12, 15, 18, 21, 24, 27, 30, 33, 36, 39, 42, 45, 48]\n"
     ]
    }
   ],
   "source": [
    "my_list = [x for x in range(0,51) if x % 3 == 0]\n",
    "print(my_list)"
   ]
  },
  {
   "cell_type": "markdown",
   "metadata": {},
   "source": [
    "_____\n",
    "**Go through the string below and if the length of a word is even print \"even!\"**"
   ]
  },
  {
   "cell_type": "code",
   "execution_count": 25,
   "metadata": {},
   "outputs": [],
   "source": [
    "st = 'Print every word in this sentence that has an even number of letters'"
   ]
  },
  {
   "cell_type": "code",
   "execution_count": 26,
   "metadata": {},
   "outputs": [
    {
     "name": "stdout",
     "output_type": "stream",
     "text": [
      "Print every EVEN EVEN EVEN EVEN EVEN has EVEN EVEN EVEN EVEN letters\n"
     ]
    }
   ],
   "source": [
    "my_list2 = [x for x in st.split(\" \")]\n",
    "\n",
    "for i,x in enumerate(my_list2):\n",
    "    if len(x) % 2 == 0:\n",
    "        my_list2[i] = \"EVEN\"\n",
    "\n",
    "print(\" \".join(my_list2))"
   ]
  },
  {
   "cell_type": "markdown",
   "metadata": {},
   "source": [
    "____\n",
    "**Write a program that prints the integers from 1 to 100. But for multiples of three print \"Fizz\" instead of the number, and for the multiples of five print \"Buzz\". For numbers which are multiples of both three and five print \"FizzBuzz\".**"
   ]
  },
  {
   "cell_type": "code",
   "execution_count": 27,
   "metadata": {},
   "outputs": [
    {
     "name": "stdout",
     "output_type": "stream",
     "text": [
      "['FizzBizz', 1, 2, 'Fizz', 4, 'Bizz', 'Fizz', 7, 8, 'Fizz', 'Bizz', 11, 'Fizz', 13, 14, 'FizzBizz', 16, 17, 'Fizz', 19, 'Bizz', 'Fizz', 22, 23, 'Fizz', 'Bizz', 26, 'Fizz', 28, 29, 'FizzBizz', 31, 32, 'Fizz', 34, 'Bizz', 'Fizz', 37, 38, 'Fizz', 'Bizz', 41, 'Fizz', 43, 44, 'FizzBizz', 46, 47, 'Fizz', 49, 'Bizz', 'Fizz', 52, 53, 'Fizz', 'Bizz', 56, 'Fizz', 58, 59, 'FizzBizz', 61, 62, 'Fizz', 64, 'Bizz', 'Fizz', 67, 68, 'Fizz', 'Bizz', 71, 'Fizz', 73, 74, 'FizzBizz', 76, 77, 'Fizz', 79, 'Bizz', 'Fizz', 82, 83, 'Fizz', 'Bizz', 86, 'Fizz', 88, 89, 'FizzBizz', 91, 92, 'Fizz', 94, 'Bizz', 'Fizz', 97, 98, 'Fizz', 'Bizz']\n"
     ]
    }
   ],
   "source": [
    "my_list2 = [x for x in range(0,101)]\n",
    "\n",
    "for x in my_list2:\n",
    "    y = x\n",
    "    if y % 3 == 0 and y % 5 == 0:\n",
    "        my_list2[x] = \"FizzBizz\"\n",
    "    elif y % 3 == 0:\n",
    "        my_list2[x] = \"Fizz\"\n",
    "    elif y % 5 == 0:\n",
    "        my_list2[x] = \"Bizz\"\n",
    "\n",
    "print(my_list2)"
   ]
  },
  {
   "cell_type": "markdown",
   "metadata": {},
   "source": [
    "____\n",
    "**Use List Comprehension to create a list of the first letters of every word in the string below:**"
   ]
  },
  {
   "cell_type": "code",
   "execution_count": 28,
   "metadata": {},
   "outputs": [],
   "source": [
    "st = 'Create a list of the first letters of every word in this string'"
   ]
  },
  {
   "cell_type": "code",
   "execution_count": 29,
   "metadata": {},
   "outputs": [
    {
     "name": "stdout",
     "output_type": "stream",
     "text": [
      "['C', 'a', 'l', 'o', 't', 'f', 'l', 'o', 'e', 'w', 'i', 't', 's']\n"
     ]
    }
   ],
   "source": [
    "my_list = [x[0] for x in st.split(\" \")]\n",
    "print(my_list)"
   ]
  },
  {
   "cell_type": "markdown",
   "metadata": {},
   "source": [
    "### Great Job!"
   ]
  },
  {
   "cell_type": "code",
   "execution_count": null,
   "metadata": {},
   "outputs": [],
   "source": []
  },
  {
   "cell_type": "code",
   "execution_count": null,
   "metadata": {},
   "outputs": [],
   "source": []
  },
  {
   "cell_type": "code",
   "execution_count": null,
   "metadata": {},
   "outputs": [],
   "source": []
  },
  {
   "cell_type": "code",
   "execution_count": null,
   "metadata": {},
   "outputs": [],
   "source": []
  },
  {
   "cell_type": "code",
   "execution_count": null,
   "metadata": {},
   "outputs": [],
   "source": []
  }
 ],
 "metadata": {
  "kernelspec": {
   "display_name": "Python 3",
   "language": "python",
   "name": "python3"
  },
  "language_info": {
   "codemirror_mode": {
    "name": "ipython",
    "version": 3
   },
   "file_extension": ".py",
   "mimetype": "text/x-python",
   "name": "python",
   "nbconvert_exporter": "python",
   "pygments_lexer": "ipython3",
   "version": "3.7.0"
  }
 },
 "nbformat": 4,
 "nbformat_minor": 1
}
