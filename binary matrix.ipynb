{
 "cells": [
  {
   "cell_type": "code",
   "execution_count": 7,
   "metadata": {},
   "outputs": [
    {
     "name": "stdout",
     "output_type": "stream",
     "text": [
      "No. of rows and columns in the square matrix?3 3\n",
      "your matrix1 0 0 0 0 1 1 1 0\n",
      "1\n",
      "0\n",
      "0\n",
      "0\n",
      "0\n",
      "1\n",
      "1\n",
      "1\n",
      "0\n",
      "YES\n"
     ]
    }
   ],
   "source": [
    "i = input(\"No. of rows and columns in the square matrix?\").split(\" \")\n",
    "list1 = input(\"your matrix\").split(' ')\n",
    "n = int(i[0])\n",
    "m = int(i[1])\n",
    "\n",
    "list2 = []\n",
    "count = 0\n",
    "\n",
    "#for getting the integer value from the string input. \n",
    "for x in range(0,n*m):\n",
    "    list2.append(int(list1[x]))\n",
    "    \n",
    "#checking for binary matrix\n",
    "for y in range(0,n*m):\n",
    "    if (list2[y]==1) or (list2[y]==0):\n",
    "        count += 1\n",
    "    else:\n",
    "        print(\"NO\")\n",
    "        break\n",
    "\n",
    "if count==n*m:\n",
    "    print(\"YES\")"
   ]
  },
  {
   "cell_type": "code",
   "execution_count": null,
   "metadata": {},
   "outputs": [],
   "source": [
    "i = input().split(\" \")\n",
    "n = int(i[0])\n",
    "m = int(i[1])\n",
    "\n",
    "list9 = []\n",
    "\n",
    "for x in range(0,n):\n",
    "      for y in range(0,m):\n",
    "        list9.append(input().split(' '))\n",
    "    \n",
    "list1 = [] \n",
    "  \n",
    "for sublist in list9: \n",
    "    for val in sublist: \n",
    "        list1.append(val) "
   ]
  }
 ],
 "metadata": {
  "kernelspec": {
   "display_name": "Python 3",
   "language": "python",
   "name": "python3"
  },
  "language_info": {
   "codemirror_mode": {
    "name": "ipython",
    "version": 3
   },
   "file_extension": ".py",
   "mimetype": "text/x-python",
   "name": "python",
   "nbconvert_exporter": "python",
   "pygments_lexer": "ipython3",
   "version": "3.7.0"
  }
 },
 "nbformat": 4,
 "nbformat_minor": 2
}
