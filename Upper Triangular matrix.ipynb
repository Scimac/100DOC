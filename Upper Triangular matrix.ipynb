{
 "cells": [
  {
   "cell_type": "code",
   "execution_count": 9,
   "metadata": {},
   "outputs": [
    {
     "name": "stdout",
     "output_type": "stream",
     "text": [
      "No. of rows and columns in the square matrix?3\n",
      "your matrix1 2 3 4 5 6 7 8 9\n",
      "1 2 3\n",
      "0 5 6\n",
      "0 0 9\n"
     ]
    }
   ],
   "source": [
    "i = input(\"No. of rows and columns in the square matrix?\")\n",
    "list1 = input(\"your matrix\").split(' ')\n",
    "n = int(i)\n",
    "count=-1\n",
    "list2 = []\n",
    "\n",
    "                                      #for getting the integer value from the string input. \n",
    "for x in range(0,n*n):\n",
    "    list2.append(int(list1[x]))\n",
    "\n",
    "                                      #for setting the bits in lower triangular matrix zero\n",
    "for x in range(0,n):\n",
    "    for y in range(0,n):\n",
    "        count += 1\n",
    "        if (x==y):                    #break if we get the diagonal element\n",
    "            count = (n*(y+1))-1       #in order to set the count to n, 2n, 3n..... i.e to the end of each row\n",
    "            break\n",
    "        list2[count] = 0\n",
    "\n",
    "count = 0                             #restarting the indexing of the list\n",
    "\n",
    "for x in range(0,n):                  #for printing the list in the form of matrix\n",
    "    for y in range(0,n):\n",
    "        print (list2[count],end = '')\n",
    "        count+=1\n",
    "        if (y!=(n-1)):\n",
    "            print(' ',end='')\n",
    "    print('')"
   ]
  },
  {
   "cell_type": "code",
   "execution_count": 12,
   "metadata": {},
   "outputs": [
    {
     "name": "stdout",
     "output_type": "stream",
     "text": [
      "4\n",
      "12 2 5 6 10 11 4 1 32 1 4 10 1 2 10 9\n",
      "12 2 5 6 10 11 4 1 32 1 4 10 1 2 10 9\n",
      "12 2 5 6 10 11 4 1 32 1 4 10 1 2 10 9\n",
      "12 2 5 6 10 11 4 1 32 1 4 10 1 2 10 9\n",
      "12 2 5 6\n",
      "0 11 4 1\n",
      "0 0 4 10\n",
      "0 0 0 9\n"
     ]
    }
   ],
   "source": [
    "i = input()\n",
    "n = int(i)\n",
    "list9 = []\n",
    "for y in range(0,n):\n",
    "    list9.append(input().split(' '))\n",
    "    \n",
    "list1 = [] \n",
    "  \n",
    "for sublist in list9: \n",
    "    for val in sublist: \n",
    "        list1.append(val) \n",
    "\n",
    "count=-1\n",
    "list2 = []\n",
    "\n",
    "\n",
    "                                      #for getting the integer value from the string input. \n",
    "for x in range(0,n*n):\n",
    "    list2.append(int(list1[x]))\n",
    "                                      #for setting the bits in lower triangular matrix zero\n",
    "for x in range(0,n):\n",
    "    for y in range(0,n):\n",
    "        count += 1\n",
    "        if (x==y):                    #break if we get the diagonal element\n",
    "            count = (n*(y+1))-1       #in order to set the count to n, 2n, 3n..... i.e to the end of each row\n",
    "            break\n",
    "        list2[count] = 0\n",
    "\n",
    "count = 0                             #restarting the indexing of the list\n",
    "\n",
    "for x in range(0,n):                  #for printing the list in the form of matrix\n",
    "    for y in range(0,n):\n",
    "        print (list2[count],end = '')\n",
    "        count+=1\n",
    "        if (y!=(n-1)):\n",
    "            print(' ',end='')\n",
    "    print('')"
   ]
  },
  {
   "cell_type": "code",
   "execution_count": null,
   "metadata": {},
   "outputs": [],
   "source": []
  }
 ],
 "metadata": {
  "kernelspec": {
   "display_name": "Python 3",
   "language": "python",
   "name": "python3"
  },
  "language_info": {
   "codemirror_mode": {
    "name": "ipython",
    "version": 3
   },
   "file_extension": ".py",
   "mimetype": "text/x-python",
   "name": "python",
   "nbconvert_exporter": "python",
   "pygments_lexer": "ipython3",
   "version": "3.7.0"
  }
 },
 "nbformat": 4,
 "nbformat_minor": 2
}
