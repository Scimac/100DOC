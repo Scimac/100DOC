{
 "cells": [
  {
   "cell_type": "code",
   "execution_count": 10,
   "metadata": {},
   "outputs": [
    {
     "name": "stdout",
     "output_type": "stream",
     "text": [
      "The date generated is: 29 / 4 / 1962\n"
     ]
    }
   ],
   "source": [
    "#generating random date \n",
    "\n",
    "from random import randint\n",
    "\n",
    "year = randint(1950,2018)\n",
    "#check for leap year\n",
    "if (year%400 == 0):\n",
    "    Leap_year_state = 1\n",
    "else:\n",
    "    if (year%100 == 0):\n",
    "        Leap_year_state = 0\n",
    "    else:\n",
    "        if (year%4 == 0):\n",
    "            Leap_year_state = 1\n",
    "        else:\n",
    "            Leap_year_state = 0\n",
    "\n",
    "month = randint(1,12)\n",
    "\n",
    "if (month==4 or month==6 or month==9 or month==11):\n",
    "    date = randint(1,30)\n",
    "elif(month==2):\n",
    "    if(Leap_year_state != 1):\n",
    "        date = randint(1,28)\n",
    "    else:\n",
    "        date = randint(1,29)\n",
    "else:\n",
    "    date = randint(1,31)\n",
    "    \n",
    "print (\"The date generated is:\",date,\"/\",month,\"/\",year )"
   ]
  },
  {
   "cell_type": "code",
   "execution_count": null,
   "metadata": {},
   "outputs": [],
   "source": []
  }
 ],
 "metadata": {
  "kernelspec": {
   "display_name": "Python 3",
   "language": "python",
   "name": "python3"
  },
  "language_info": {
   "codemirror_mode": {
    "name": "ipython",
    "version": 3
   },
   "file_extension": ".py",
   "mimetype": "text/x-python",
   "name": "python",
   "nbconvert_exporter": "python",
   "pygments_lexer": "ipython3",
   "version": "3.7.0"
  }
 },
 "nbformat": 4,
 "nbformat_minor": 2
}
