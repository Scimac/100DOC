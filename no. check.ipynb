{
 "cells": [
  {
   "cell_type": "code",
   "execution_count": 12,
   "metadata": {},
   "outputs": [
    {
     "name": "stdout",
     "output_type": "stream",
     "text": [
      "11111111111111111110\n",
      "YES\n"
     ]
    }
   ],
   "source": [
    "str = input()\n",
    "mylist = []\n",
    "\n",
    "num_1 = 0\n",
    "num_0 = 0\n",
    "\n",
    "x = len(str)\n",
    "\n",
    "for i in range(0,x):\n",
    "    mylist.append(int(str[i]))\n",
    "\n",
    "for j in range(0,x):\n",
    "    if mylist[j] == 0:\n",
    "        num_0 = num_0 + 1\n",
    "    if mylist[j] == 1:\n",
    "        num_1 = num_1 + 1\n",
    "\n",
    "if num_1 == 1 or num_0 == 1:\n",
    "    print(\"YES\")\n",
    "else:\n",
    "    print(\"NO\")"
   ]
  },
  {
   "cell_type": "code",
   "execution_count": null,
   "metadata": {},
   "outputs": [],
   "source": []
  }
 ],
 "metadata": {
  "kernelspec": {
   "display_name": "Python 3",
   "language": "python",
   "name": "python3"
  },
  "language_info": {
   "codemirror_mode": {
    "name": "ipython",
    "version": 3
   },
   "file_extension": ".py",
   "mimetype": "text/x-python",
   "name": "python",
   "nbconvert_exporter": "python",
   "pygments_lexer": "ipython3",
   "version": "3.7.0"
  }
 },
 "nbformat": 4,
 "nbformat_minor": 2
}
