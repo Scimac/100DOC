{
 "cells": [
  {
   "cell_type": "code",
   "execution_count": 22,
   "metadata": {},
   "outputs": [
    {
     "name": "stdout",
     "output_type": "stream",
     "text": [
      "[9, 9, 11, 16, 29, 30, 32, 38, 84, 88, 93, 108, 109, 110, 119, 142, 143, 147, 172, 174, 182, 187, 197, 202, 206, 210, 213, 220, 226, 227, 233, 236, 239, 251, 254, 255, 268, 270, 274, 276, 288, 289, 299, 317, 326, 328, 343, 344, 349, 355]\n"
     ]
    }
   ],
   "source": [
    "#In probability theory,the birthday paradox concerns the probability that, in a set of n randomly chosen people, some pair of\n",
    "# them will have the same birthday. \n",
    "\n",
    "from random import randint\n",
    "import datetime\n",
    "\n",
    "i=0\n",
    "birthday=[]\n",
    "\n",
    "while i<50:\n",
    "    i += 1\n",
    "    #generation of Year\n",
    "    year = randint(1950,2018)\n",
    "    #check for leap year\n",
    "    if (year%400 == 0):\n",
    "        Leap_year_state = 1\n",
    "    else:\n",
    "        if (year%100 == 0):\n",
    "            Leap_year_state = 0\n",
    "        else:\n",
    "            if (year%4 == 0):\n",
    "                Leap_year_state = 1\n",
    "            else:\n",
    "                Leap_year_state = 0\n",
    "\n",
    "    #generation of Month\n",
    "    month = randint(1,12)\n",
    "\n",
    "    #generation of Date\n",
    "    if (month==4 or month==6 or month==9 or month==11):\n",
    "        date = randint(1,30)\n",
    "    elif(month==2):\n",
    "        if(Leap_year_state != 1):\n",
    "            date = randint(1,28)\n",
    "        else:\n",
    "            date = randint(1,29)\n",
    "    else:\n",
    "        date = randint(1,31)\n",
    "        \n",
    "    #finding the day of the year to crosscheck it\n",
    "    date_format = datetime.date(year,month,date)\n",
    "    day_of_the_year = date_format.timetuple().tm_yday\n",
    "    birthday.append(day_of_the_year)\n",
    "    \n",
    "birthday.sort()\n",
    "print(birthday)"
   ]
  },
  {
   "cell_type": "code",
   "execution_count": null,
   "metadata": {},
   "outputs": [],
   "source": []
  },
  {
   "cell_type": "code",
   "execution_count": null,
   "metadata": {},
   "outputs": [],
   "source": []
  }
 ],
 "metadata": {
  "kernelspec": {
   "display_name": "Python 3",
   "language": "python",
   "name": "python3"
  },
  "language_info": {
   "codemirror_mode": {
    "name": "ipython",
    "version": 3
   },
   "file_extension": ".py",
   "mimetype": "text/x-python",
   "name": "python",
   "nbconvert_exporter": "python",
   "pygments_lexer": "ipython3",
   "version": "3.7.0"
  }
 },
 "nbformat": 4,
 "nbformat_minor": 2
}
