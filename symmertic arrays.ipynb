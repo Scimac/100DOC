{
 "cells": [
  {
   "cell_type": "code",
   "execution_count": 24,
   "metadata": {},
   "outputs": [
    {
     "name": "stdout",
     "output_type": "stream",
     "text": [
      "No. of rows and columns in the square matrix?2\n",
      "your matrix1 2 2 1\n",
      "YES\n"
     ]
    }
   ],
   "source": [
    "i = input(\"No. of rows and columns in the square matrix?\")\n",
    "list1 = input(\"your matrix\").split(' ')\n",
    "n = int(i)\n",
    "\n",
    "list2 = []\n",
    "list3 = []\n",
    "\n",
    "a,b=0,0\n",
    "count=0\n",
    "\n",
    "#for making an array out of string\n",
    "for y in range(0,n):\n",
    "    for z in range(0,n):\n",
    "        list2.append(int(list1[b]))\n",
    "        b=b+1\n",
    "    list3.append(list2[a:b])\n",
    "    a=b\n",
    "    \n",
    "#transpose if the matrix \n",
    "list4 = [[list3[j][i] for j in range(len(list3))] for i in range(len(list3[0]))] \n",
    "\n",
    "#checking for the symmtricity in lists\n",
    "for y in range(0,n):\n",
    "    if (list3[y]==list4[y]):\n",
    "        count += 1\n",
    "    else:\n",
    "        pass\n",
    "    \n",
    "if (count==n):\n",
    "    print(\"YES\")\n",
    "else:\n",
    "    print(\"NO\")"
   ]
  },
  {
   "cell_type": "code",
   "execution_count": null,
   "metadata": {},
   "outputs": [],
   "source": []
  }
 ],
 "metadata": {
  "kernelspec": {
   "display_name": "Python 3",
   "language": "python",
   "name": "python3"
  },
  "language_info": {
   "codemirror_mode": {
    "name": "ipython",
    "version": 3
   },
   "file_extension": ".py",
   "mimetype": "text/x-python",
   "name": "python",
   "nbconvert_exporter": "python",
   "pygments_lexer": "ipython3",
   "version": "3.7.0"
  }
 },
 "nbformat": 4,
 "nbformat_minor": 2
}
